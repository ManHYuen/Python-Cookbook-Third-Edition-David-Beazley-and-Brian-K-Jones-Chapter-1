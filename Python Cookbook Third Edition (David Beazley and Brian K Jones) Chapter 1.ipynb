{
 "cells": [
  {
   "cell_type": "raw",
   "metadata": {},
   "source": [
    "1.1. Unpacking a Sequence into Separate Variables"
   ]
  },
  {
   "cell_type": "raw",
   "metadata": {},
   "source": [
    "Problem\n",
    "You have an N-element tuple or sequence that you would like to unpack into a collection\n",
    "of N variables"
   ]
  },
  {
   "cell_type": "raw",
   "metadata": {},
   "source": [
    "Solution"
   ]
  },
  {
   "cell_type": "code",
   "execution_count": 1,
   "metadata": {},
   "outputs": [],
   "source": [
    "# for tupple\n",
    "p = (1,2,3,4,5)"
   ]
  },
  {
   "cell_type": "code",
   "execution_count": 2,
   "metadata": {},
   "outputs": [],
   "source": [
    "a,b,c,d,e = p"
   ]
  },
  {
   "cell_type": "code",
   "execution_count": 15,
   "metadata": {},
   "outputs": [
    {
     "name": "stdout",
     "output_type": "stream",
     "text": [
      "1\n",
      "2\n",
      "3\n",
      "4\n",
      "5\n"
     ]
    }
   ],
   "source": [
    "print(a, end = \"\\n\")\n",
    "print(b, end = \"\\n\")\n",
    "print(c, end = \"\\n\")\n",
    "print(d, end = \"\\n\")\n",
    "print(e, end = \"\\n\")"
   ]
  },
  {
   "cell_type": "code",
   "execution_count": 16,
   "metadata": {},
   "outputs": [],
   "source": [
    "# for sequence\n",
    "name = [\"Ken\", \"Chan\", \"Tom\", \"Erick\"]\n",
    "Ken,Chan,Tom,Erick = name"
   ]
  },
  {
   "cell_type": "code",
   "execution_count": 17,
   "metadata": {},
   "outputs": [
    {
     "name": "stdout",
     "output_type": "stream",
     "text": [
      "Ken\n",
      "Chan\n",
      "Tom\n",
      "Erick\n"
     ]
    }
   ],
   "source": [
    "print(Ken, end = \"\\n\")\n",
    "print(Chan, end = \"\\n\")\n",
    "print(Tom, end = \"\\n\")\n",
    "print(Erick, end = \"\\n\")"
   ]
  },
  {
   "cell_type": "code",
   "execution_count": 21,
   "metadata": {},
   "outputs": [],
   "source": [
    "# for sequence with mix data structure\n",
    "lis = [\"p\", [\"t\", \"g\"], (\"l\",\"y\",\"z\")]\n",
    "p,[t,g], [l,y,z] = lis"
   ]
  },
  {
   "cell_type": "code",
   "execution_count": 22,
   "metadata": {},
   "outputs": [
    {
     "name": "stdout",
     "output_type": "stream",
     "text": [
      "p\n",
      "t\n",
      "g\n",
      "l\n",
      "y\n",
      "z\n"
     ]
    }
   ],
   "source": [
    "print(p, end = \"\\n\")\n",
    "print(t, end = \"\\n\")\n",
    "print(g, end = \"\\n\")\n",
    "print(l, end = \"\\n\")\n",
    "print(y, end = \"\\n\")\n",
    "print(z, end = \"\\n\")"
   ]
  },
  {
   "cell_type": "raw",
   "metadata": {},
   "source": [
    "1.2. Unpacking Elements from Iterables of Arbitrary\n",
    "Length"
   ]
  },
  {
   "cell_type": "raw",
   "metadata": {},
   "source": [
    "Problem\n",
    "You need to unpack N elements from an iterable, but the iterable may be longer than N\n",
    "elements, causing a “too many values to unpack” exception."
   ]
  },
  {
   "cell_type": "code",
   "execution_count": 24,
   "metadata": {},
   "outputs": [],
   "source": [
    "lis1 = [1,2,3,4]"
   ]
  },
  {
   "cell_type": "code",
   "execution_count": 25,
   "metadata": {},
   "outputs": [],
   "source": [
    "a,b,*c = lis1"
   ]
  },
  {
   "cell_type": "code",
   "execution_count": 26,
   "metadata": {},
   "outputs": [
    {
     "name": "stdout",
     "output_type": "stream",
     "text": [
      "1\n",
      "2\n",
      "[3, 4]\n"
     ]
    }
   ],
   "source": [
    "print(a, end = \"\\n\")\n",
    "print(b, end = \"\\n\")\n",
    "print(c, end = \"\\n\")"
   ]
  },
  {
   "cell_type": "code",
   "execution_count": 35,
   "metadata": {},
   "outputs": [
    {
     "data": {
      "text/plain": [
       "77.33333333333333"
      ]
     },
     "execution_count": 35,
     "metadata": {},
     "output_type": "execute_result"
    }
   ],
   "source": [
    "# another Example, suppose the final grade is calculated by the highest three exam grades.\n",
    "import numpy as np\n",
    "grade = [50, 80, 75, 20, 77]\n",
    "lowest, second_lowest, *highest_three = sorted(grade)\n",
    "np.mean(highest_three)"
   ]
  },
  {
   "cell_type": "raw",
   "metadata": {},
   "source": [
    "1.3. Keeping the Last N Items"
   ]
  },
  {
   "cell_type": "raw",
   "metadata": {},
   "source": [
    "Problem\n",
    "You want to keep a limited history of the last few items seen during iteration or during\n",
    "some other kind of processing"
   ]
  },
  {
   "cell_type": "code",
   "execution_count": null,
   "metadata": {},
   "outputs": [],
   "source": []
  },
  {
   "cell_type": "raw",
   "metadata": {},
   "source": [
    "1.4. Finding the Largest or Smallest N Items"
   ]
  },
  {
   "cell_type": "raw",
   "metadata": {},
   "source": [
    "Problem\n",
    "You want to make a list of the largest or smallest N items in a collection."
   ]
  },
  {
   "cell_type": "code",
   "execution_count": 42,
   "metadata": {},
   "outputs": [
    {
     "name": "stdout",
     "output_type": "stream",
     "text": [
      "[10383, 1000]\n",
      "[2, 5, 58]\n"
     ]
    }
   ],
   "source": [
    "# use heapq module\n",
    "import heapq\n",
    "lis = [58,75,2,5,1000,98,10383]\n",
    "print(heapq.nlargest(2, lis), end = \"\\n\")\n",
    "print(heapq.nsmallest(3, lis), end = \"\\n\")"
   ]
  },
  {
   "cell_type": "code",
   "execution_count": 43,
   "metadata": {},
   "outputs": [
    {
     "data": {
      "text/plain": [
       "77.33333333333333"
      ]
     },
     "execution_count": 43,
     "metadata": {},
     "output_type": "execute_result"
    }
   ],
   "source": [
    "# for the example in problem 1.3 we can use heapq module instead of variable unpacking\n",
    "grade = [50, 80, 75, 20, 77]\n",
    "np.mean(heapq.nlargest(3, grade))"
   ]
  },
  {
   "cell_type": "code",
   "execution_count": 47,
   "metadata": {},
   "outputs": [
    {
     "name": "stdout",
     "output_type": "stream",
     "text": [
      "[{'name': 'Chi', 'score': 85}, {'name': 'Mary', 'score': 70}]\n",
      "[{'name': 'David', 'score': 30}, {'name': 'Tom', 'score': 67}]\n"
     ]
    }
   ],
   "source": [
    "# for list of dict\n",
    "grade = [{\"name\": \"Tom\", \"score\": 67}, {\"name\": \"Mary\", \"score\": 70}, {\"name\": \"Chi\", \"score\": 85}, {\"name\": \"David\", \"score\": 30}]\n",
    "highest_two = heapq.nlargest(2, grade, key=lambda x: x[\"score\"])\n",
    "lowest_two = heapq.nsmallest(2, grade, key = lambda x: x[\"score\"])\n",
    "print(highest_two, end=\"\\n\")\n",
    "print(lowest_two, end=\"\\n\")"
   ]
  },
  {
   "cell_type": "raw",
   "metadata": {},
   "source": [
    "1.5. Implementing a Priority Queue"
   ]
  },
  {
   "cell_type": "raw",
   "metadata": {},
   "source": [
    "Problem\n",
    "You want to implement a queue that sorts items by a given priority and always returns\n",
    "the item with the highest priority on each pop operation."
   ]
  },
  {
   "cell_type": "code",
   "execution_count": null,
   "metadata": {},
   "outputs": [],
   "source": []
  },
  {
   "cell_type": "raw",
   "metadata": {},
   "source": [
    "1.6. Mapping Keys to Multiple Values in a Dictionary"
   ]
  },
  {
   "cell_type": "raw",
   "metadata": {},
   "source": [
    "Problem\n",
    "You want to make a dictionary that maps keys to more than one value (a so-called\n",
    "“multidict”)."
   ]
  },
  {
   "cell_type": "code",
   "execution_count": 53,
   "metadata": {},
   "outputs": [],
   "source": [
    "# simple way\n",
    "dic = {\"name\": [\"Kelvin\", \"Mary\", \"Albert\"]}\n",
    "dic2 = {\"name\": {\"Kelvin\", \"Mary\", \"Albert\"}}"
   ]
  },
  {
   "cell_type": "code",
   "execution_count": 54,
   "metadata": {},
   "outputs": [
    {
     "name": "stdout",
     "output_type": "stream",
     "text": [
      "{'name': ['Kelvin', 'Mary', 'Albert', 'Angie']}\n",
      "{'name': {'Mary', 'Albert', 'Kelvin'}}\n"
     ]
    }
   ],
   "source": [
    "# use dict if you want to preserve the value order, use set if you don't want any value duplicate.\n",
    "dic[\"name\"].append(\"Angie\")\n",
    "dic2[\"name\"].add(\"Kelvin\")\n",
    "print(dic, end = \"\\n\")\n",
    "print(dic2, end = \"\\n\")"
   ]
  },
  {
   "cell_type": "code",
   "execution_count": 59,
   "metadata": {},
   "outputs": [
    {
     "name": "stdout",
     "output_type": "stream",
     "text": [
      "defaultdict(<class 'list'>, {'Financial': ['Kelvin', 'Tommy'], 'HR': ['Mary', 'Angie'], 'IT': ['Chi']})\n"
     ]
    }
   ],
   "source": [
    "# use defaultdict\n",
    "from collections import defaultdict\n",
    "department = [(\"Kelvin\", \"Financial\"), (\"Mary\", \"HR\"), (\"Chi\", \"IT\"), (\"Tommy\", \"Financial\"), (\"Angie\", \"HR\")]\n",
    "d = defaultdict(list)\n",
    "for name, dep in department:\n",
    "    d[dep].append(name)\n",
    "print(d)"
   ]
  },
  {
   "cell_type": "raw",
   "metadata": {},
   "source": [
    "1.7. Keeping Dictionaries in Order"
   ]
  },
  {
   "cell_type": "raw",
   "metadata": {},
   "source": [
    "Problem\n",
    "You want to create a dictionary, and you also want to control the order of items when\n",
    "iterating or serializing."
   ]
  },
  {
   "cell_type": "code",
   "execution_count": 2,
   "metadata": {},
   "outputs": [],
   "source": [
    "# use OrderedDict\n",
    "from collections import OrderedDict\n",
    "\n",
    "d = OrderedDict()\n",
    "d[\"Cherry\"] = \"red\"\n",
    "d[\"Lemon\"] = \"yellow\"\n",
    "d[\"Blue Berry\"] = \"Blue\"\n",
    "d[\"Grape\"] = \"Black\""
   ]
  },
  {
   "cell_type": "code",
   "execution_count": 3,
   "metadata": {},
   "outputs": [
    {
     "data": {
      "text/plain": [
       "OrderedDict([('Cherry', 'red'),\n",
       "             ('Lemon', 'yellow'),\n",
       "             ('Blue Berry', 'Blue'),\n",
       "             ('Grape', 'Black')])"
      ]
     },
     "execution_count": 3,
     "metadata": {},
     "output_type": "execute_result"
    }
   ],
   "source": [
    "d"
   ]
  },
  {
   "cell_type": "raw",
   "metadata": {},
   "source": [
    "1.8. Calculating with Dictionaries"
   ]
  },
  {
   "cell_type": "raw",
   "metadata": {},
   "source": [
    "Problem\n",
    "You want to perform various calculations (e.g., minimum value, maximum value, sorting,\n",
    "etc.) on a dictionary of data."
   ]
  },
  {
   "cell_type": "code",
   "execution_count": 7,
   "metadata": {},
   "outputs": [],
   "source": [
    "dic = dict([(\"Tom\", 75), (\"Mary\", 80), (\"Ken\", 90), (\"Jean\", 45)])"
   ]
  },
  {
   "cell_type": "code",
   "execution_count": 11,
   "metadata": {},
   "outputs": [
    {
     "data": {
      "text/plain": [
       "[90, 'Ken']"
      ]
     },
     "execution_count": 11,
     "metadata": {},
     "output_type": "execute_result"
    }
   ],
   "source": [
    "# get the maximum\n",
    "list(max(zip(dic.values(), dic.keys())))"
   ]
  },
  {
   "cell_type": "code",
   "execution_count": 16,
   "metadata": {},
   "outputs": [
    {
     "data": {
      "text/plain": [
       "[90, 'Ken']"
      ]
     },
     "execution_count": 16,
     "metadata": {},
     "output_type": "execute_result"
    }
   ],
   "source": [
    "# alernative way\n",
    "list(max((value, key) for key, value in dic.items()))"
   ]
  },
  {
   "cell_type": "code",
   "execution_count": 17,
   "metadata": {},
   "outputs": [
    {
     "data": {
      "text/plain": [
       "[45, 'Jean']"
      ]
     },
     "execution_count": 17,
     "metadata": {},
     "output_type": "execute_result"
    }
   ],
   "source": [
    "# get the minimum\n",
    "list(min(zip(dic.values(), dic.keys())))"
   ]
  },
  {
   "cell_type": "code",
   "execution_count": 19,
   "metadata": {},
   "outputs": [
    {
     "data": {
      "text/plain": [
       "[45, 'Jean']"
      ]
     },
     "execution_count": 19,
     "metadata": {},
     "output_type": "execute_result"
    }
   ],
   "source": [
    "list(min((value, key) for key, value in dic.items()))"
   ]
  },
  {
   "cell_type": "code",
   "execution_count": 37,
   "metadata": {},
   "outputs": [
    {
     "data": {
      "text/plain": [
       "[('Ken', 90), ('Mary', 80), ('Tom', 75), ('Jean', 45)]"
      ]
     },
     "execution_count": 37,
     "metadata": {},
     "output_type": "execute_result"
    }
   ],
   "source": [
    "sorted(dic.items(), key=lambda x: x[1], reverse=True)"
   ]
  },
  {
   "cell_type": "raw",
   "metadata": {},
   "source": [
    "1.9. Finding Commonalities in Two Dictionaries"
   ]
  },
  {
   "cell_type": "raw",
   "metadata": {},
   "source": [
    "Problem\n",
    "You have two dictionaries and want to find out what they might have in common (same\n",
    "keys, same values, etc.)."
   ]
  },
  {
   "cell_type": "code",
   "execution_count": 40,
   "metadata": {},
   "outputs": [],
   "source": [
    "a = {'x': 5 , \"y\": 18, \"z\": 25}\n",
    "b = {'x': 5, \"y\": 59, \"z\": 25, \"g\":97}"
   ]
  },
  {
   "cell_type": "code",
   "execution_count": 47,
   "metadata": {},
   "outputs": [
    {
     "data": {
      "text/plain": [
       "{'x', 'y', 'z'}"
      ]
     },
     "execution_count": 47,
     "metadata": {},
     "output_type": "execute_result"
    }
   ],
   "source": [
    "# for match keys\n",
    "a.keys() & b.keys()"
   ]
  },
  {
   "cell_type": "code",
   "execution_count": 51,
   "metadata": {},
   "outputs": [
    {
     "data": {
      "text/plain": [
       "{('x', 5), ('z', 25)}"
      ]
     },
     "execution_count": 51,
     "metadata": {},
     "output_type": "execute_result"
    }
   ],
   "source": [
    "# for match values\n",
    "a.items() & b.items()"
   ]
  },
  {
   "cell_type": "code",
   "execution_count": 52,
   "metadata": {},
   "outputs": [
    {
     "data": {
      "text/plain": [
       "{'x': 5, 'y': 59}"
      ]
     },
     "execution_count": 52,
     "metadata": {},
     "output_type": "execute_result"
    }
   ],
   "source": [
    "# make a dictionary with specific keys removed\n",
    "{key:b[key] for key in b.keys() - {'z', 'g'}}"
   ]
  },
  {
   "cell_type": "raw",
   "metadata": {},
   "source": [
    "1.10. Removing Duplicates from a Sequence while\n",
    "Maintaining Order"
   ]
  },
  {
   "cell_type": "raw",
   "metadata": {},
   "source": [
    "Problem\n",
    "You want to eliminate the duplicate values in a sequence, but preserve the order of the\n",
    "remaining items."
   ]
  },
  {
   "cell_type": "code",
   "execution_count": 56,
   "metadata": {},
   "outputs": [],
   "source": [
    "l = [1,1,2,3,4,3,7,9,1]\n",
    "def el(L):\n",
    "    order = set()\n",
    "    for i in L:\n",
    "        if i not in order:\n",
    "            order.add(i)\n",
    "    return order"
   ]
  },
  {
   "cell_type": "raw",
   "metadata": {},
   "source": [
    "1.11. Naming a Slice"
   ]
  },
  {
   "cell_type": "raw",
   "metadata": {},
   "source": [
    "Problem\n",
    "Your program has become an unreadable mess of hardcoded slice indices and you want\n",
    "to clean it up."
   ]
  },
  {
   "cell_type": "code",
   "execution_count": 60,
   "metadata": {},
   "outputs": [],
   "source": [
    "string = \"......edwed..wed.w......Kevin...89y6389thenfio...1/2/2018*()))dsjckjn\""
   ]
  },
  {
   "cell_type": "code",
   "execution_count": 64,
   "metadata": {},
   "outputs": [
    {
     "name": "stdout",
     "output_type": "stream",
     "text": [
      "24\n",
      "49\n"
     ]
    }
   ],
   "source": [
    "print(string.find(\"K\"), end=\"\\n\")\n",
    "print(string.find(\"1\"), end=\"\\n\")"
   ]
  },
  {
   "cell_type": "code",
   "execution_count": 66,
   "metadata": {},
   "outputs": [],
   "source": [
    "name = slice(24,29)\n",
    "date = slice(49,57)"
   ]
  },
  {
   "cell_type": "code",
   "execution_count": 69,
   "metadata": {},
   "outputs": [
    {
     "name": "stdout",
     "output_type": "stream",
     "text": [
      "Kevin\n",
      "1/2/2018\n"
     ]
    }
   ],
   "source": [
    "print(string[name], end='\\n')\n",
    "print(string[date], end=\"\\n\")"
   ]
  },
  {
   "cell_type": "raw",
   "metadata": {},
   "source": [
    "1.12. Determining the Most Frequently Occurring Items in\n",
    "a Sequence"
   ]
  },
  {
   "cell_type": "raw",
   "metadata": {},
   "source": [
    "Problem\n",
    "You have a sequence of items, and you’d like to determine the most frequently occurring\n",
    "items in the sequence."
   ]
  },
  {
   "cell_type": "code",
   "execution_count": 70,
   "metadata": {},
   "outputs": [],
   "source": [
    "words = [\n",
    "'look', 'into', 'my', 'eyes', 'look', 'into', 'my', 'eyes',\n",
    "'the', 'eyes', 'the', 'eyes', 'the', 'eyes', 'not', 'around', 'the',\n",
    "'eyes', \"don't\", 'look', 'around', 'the', 'eyes', 'look', 'into',\n",
    "'my', 'eyes', \"you're\", 'under'\n",
    "]"
   ]
  },
  {
   "cell_type": "code",
   "execution_count": 81,
   "metadata": {},
   "outputs": [
    {
     "data": {
      "text/plain": [
       "Counter({'around': 2,\n",
       "         \"don't\": 1,\n",
       "         'eyes': 8,\n",
       "         'into': 3,\n",
       "         'look': 4,\n",
       "         'my': 3,\n",
       "         'not': 1,\n",
       "         'the': 5,\n",
       "         'under': 1,\n",
       "         \"you're\": 1})"
      ]
     },
     "execution_count": 81,
     "metadata": {},
     "output_type": "execute_result"
    }
   ],
   "source": [
    "from collections import Counter\n",
    "from operator import itemgetter\n",
    "count = Counter(words)\n",
    "count"
   ]
  },
  {
   "cell_type": "code",
   "execution_count": 98,
   "metadata": {},
   "outputs": [
    {
     "data": {
      "text/plain": [
       "(8, 'eyes')"
      ]
     },
     "execution_count": 98,
     "metadata": {},
     "output_type": "execute_result"
    }
   ],
   "source": [
    "max(zip(count.values(), count.keys()))"
   ]
  },
  {
   "cell_type": "code",
   "execution_count": 84,
   "metadata": {},
   "outputs": [
    {
     "data": {
      "text/plain": [
       "[('eyes', 8)]"
      ]
     },
     "execution_count": 84,
     "metadata": {},
     "output_type": "execute_result"
    }
   ],
   "source": [
    "# use counter.most_common()\n",
    "count.most_common(1)"
   ]
  },
  {
   "cell_type": "raw",
   "metadata": {},
   "source": [
    "1.13. Sorting a List of Dictionaries by a Common Key"
   ]
  },
  {
   "cell_type": "raw",
   "metadata": {},
   "source": [
    "Problem\n",
    "You have a list of dictionaries and you would like to sort the entries according to one\n",
    "or more of the dictionary values."
   ]
  },
  {
   "cell_type": "code",
   "execution_count": 99,
   "metadata": {},
   "outputs": [],
   "source": [
    "rows = [\n",
    "{'fname': 'Brian', 'lname': 'Jones', 'uid': 1003},\n",
    "{'fname': 'David', 'lname': 'Beazley', 'uid': 1002},\n",
    "{'fname': 'John', 'lname': 'Cleese', 'uid': 1001},\n",
    "{'fname': 'Big', 'lname': 'Jones', 'uid': 1004}\n",
    "]"
   ]
  },
  {
   "cell_type": "code",
   "execution_count": 101,
   "metadata": {},
   "outputs": [
    {
     "data": {
      "text/plain": [
       "[{'fname': 'Big', 'lname': 'Jones', 'uid': 1004},\n",
       " {'fname': 'Brian', 'lname': 'Jones', 'uid': 1003},\n",
       " {'fname': 'David', 'lname': 'Beazley', 'uid': 1002},\n",
       " {'fname': 'John', 'lname': 'Cleese', 'uid': 1001}]"
      ]
     },
     "execution_count": 101,
     "metadata": {},
     "output_type": "execute_result"
    }
   ],
   "source": [
    "# sort by one value\n",
    "from operator import itemgetter\n",
    "sorted(rows, key=itemgetter('fname'))"
   ]
  },
  {
   "cell_type": "code",
   "execution_count": 102,
   "metadata": {},
   "outputs": [
    {
     "data": {
      "text/plain": [
       "[{'fname': 'Big', 'lname': 'Jones', 'uid': 1004},\n",
       " {'fname': 'Brian', 'lname': 'Jones', 'uid': 1003},\n",
       " {'fname': 'David', 'lname': 'Beazley', 'uid': 1002},\n",
       " {'fname': 'John', 'lname': 'Cleese', 'uid': 1001}]"
      ]
     },
     "execution_count": 102,
     "metadata": {},
     "output_type": "execute_result"
    }
   ],
   "source": [
    "# sort by two value\n",
    "sorted(rows, key=itemgetter('fname', 'lname'))"
   ]
  },
  {
   "cell_type": "code",
   "execution_count": 103,
   "metadata": {},
   "outputs": [
    {
     "data": {
      "text/plain": [
       "{'fname': 'Big', 'lname': 'Jones', 'uid': 1004}"
      ]
     },
     "execution_count": 103,
     "metadata": {},
     "output_type": "execute_result"
    }
   ],
   "source": [
    "max(rows, key=itemgetter('uid'))"
   ]
  },
  {
   "cell_type": "code",
   "execution_count": 105,
   "metadata": {},
   "outputs": [
    {
     "data": {
      "text/plain": [
       "{'fname': 'John', 'lname': 'Cleese', 'uid': 1001}"
      ]
     },
     "execution_count": 105,
     "metadata": {},
     "output_type": "execute_result"
    }
   ],
   "source": [
    "min(rows, key=itemgetter('uid'))"
   ]
  },
  {
   "cell_type": "raw",
   "metadata": {},
   "source": [
    "1.15. Grouping Records Together Based on a Field"
   ]
  },
  {
   "cell_type": "raw",
   "metadata": {},
   "source": [
    "Problem\n",
    "You have a sequence of dictionaries or instances and you want to iterate over the data\n",
    "in groups based on the value of a particular field, such as date."
   ]
  },
  {
   "cell_type": "code",
   "execution_count": 112,
   "metadata": {},
   "outputs": [],
   "source": [
    "from itertools import groupby\n",
    "rows = [\n",
    "{'address': '5412 N CLARK', 'date': '07/01/2012'},\n",
    "{'address': '5148 N CLARK', 'date': '07/04/2012'},\n",
    "{'address': '5800 E 58TH', 'date': '07/02/2012'},\n",
    "{'address': '2122 N CLARK', 'date': '07/03/2012'},\n",
    "{'address': '5645 N RAVENSWOOD', 'date': '07/02/2012'},\n",
    "{'address': '1060 W ADDISON', 'date': '07/02/2012'},\n",
    "{'address': '4801 N BROADWAY', 'date': '07/01/2012'},\n",
    "{'address': '1039 W GRANVILLE', 'date': '07/04/2012'},\n",
    "]"
   ]
  },
  {
   "cell_type": "code",
   "execution_count": 113,
   "metadata": {},
   "outputs": [],
   "source": [
    "rows.sort(key=itemgetter('date'))"
   ]
  },
  {
   "cell_type": "code",
   "execution_count": 118,
   "metadata": {},
   "outputs": [
    {
     "name": "stdout",
     "output_type": "stream",
     "text": [
      "------------------------------------------------------------\n",
      "07/01/2012\n",
      "{'address': '5412 N CLARK', 'date': '07/01/2012'}\n",
      "{'address': '4801 N BROADWAY', 'date': '07/01/2012'}\n",
      "------------------------------------------------------------\n",
      "07/02/2012\n",
      "{'address': '5800 E 58TH', 'date': '07/02/2012'}\n",
      "{'address': '5645 N RAVENSWOOD', 'date': '07/02/2012'}\n",
      "{'address': '1060 W ADDISON', 'date': '07/02/2012'}\n",
      "------------------------------------------------------------\n",
      "07/03/2012\n",
      "{'address': '2122 N CLARK', 'date': '07/03/2012'}\n",
      "------------------------------------------------------------\n",
      "07/04/2012\n",
      "{'address': '5148 N CLARK', 'date': '07/04/2012'}\n",
      "{'address': '1039 W GRANVILLE', 'date': '07/04/2012'}\n"
     ]
    }
   ],
   "source": [
    "for date, items in groupby(rows, key=itemgetter('date')):\n",
    "    print(\"-\"*60)\n",
    "    print(date)\n",
    "    for item in items:\n",
    "        print(item)"
   ]
  },
  {
   "cell_type": "raw",
   "metadata": {},
   "source": [
    "1.16. Filtering Sequence Elements"
   ]
  },
  {
   "cell_type": "raw",
   "metadata": {},
   "source": [
    "Problem\n",
    "You have data inside of a sequence, and need to extract values or reduce the sequence\n",
    "using some criteria."
   ]
  },
  {
   "cell_type": "code",
   "execution_count": 119,
   "metadata": {},
   "outputs": [],
   "source": [
    "a = [-19, 20, 98, -6, 7, -21]"
   ]
  },
  {
   "cell_type": "code",
   "execution_count": 120,
   "metadata": {},
   "outputs": [
    {
     "data": {
      "text/plain": [
       "[-19, -6, -21]"
      ]
     },
     "execution_count": 120,
     "metadata": {},
     "output_type": "execute_result"
    }
   ],
   "source": [
    "# filter all the elements that is less than 0\n",
    "# use list comprehension\n",
    "[n for n in a if n < 0]"
   ]
  },
  {
   "cell_type": "code",
   "execution_count": 121,
   "metadata": {},
   "outputs": [
    {
     "data": {
      "text/plain": [
       "[20, 98, 7]"
      ]
     },
     "execution_count": 121,
     "metadata": {},
     "output_type": "execute_result"
    }
   ],
   "source": [
    "[n for n in a if n > 0]"
   ]
  },
  {
   "cell_type": "code",
   "execution_count": 122,
   "metadata": {},
   "outputs": [
    {
     "data": {
      "text/plain": [
       "[-19, -6, -21]"
      ]
     },
     "execution_count": 122,
     "metadata": {},
     "output_type": "execute_result"
    }
   ],
   "source": [
    "# use filter\n",
    "list(filter(lambda x: x < 0, a))"
   ]
  },
  {
   "cell_type": "code",
   "execution_count": 123,
   "metadata": {},
   "outputs": [
    {
     "data": {
      "text/plain": [
       "[20, 98, 7]"
      ]
     },
     "execution_count": 123,
     "metadata": {},
     "output_type": "execute_result"
    }
   ],
   "source": [
    "list(filter(lambda x: x > 0, a))"
   ]
  },
  {
   "cell_type": "code",
   "execution_count": 125,
   "metadata": {},
   "outputs": [
    {
     "data": {
      "text/plain": [
       "['1', '6', '-98']"
      ]
     },
     "execution_count": 125,
     "metadata": {},
     "output_type": "execute_result"
    }
   ],
   "source": [
    "# using specific function\n",
    "b = [\"1\", \"&\", \"a\", \"6\", \"-98\"]\n",
    "\n",
    "def st_num(n):\n",
    "    try:\n",
    "        int(n)\n",
    "        return True\n",
    "    except ValueError:\n",
    "        return False\n",
    "\n",
    "list(filter(st_num, b))"
   ]
  },
  {
   "cell_type": "code",
   "execution_count": 126,
   "metadata": {},
   "outputs": [
    {
     "data": {
      "text/plain": [
       "[361, 36, 441]"
      ]
     },
     "execution_count": 126,
     "metadata": {},
     "output_type": "execute_result"
    }
   ],
   "source": [
    "# using function to element by filter it first by specific condition\n",
    "[n * n for n in a if n < 0]"
   ]
  },
  {
   "cell_type": "code",
   "execution_count": 127,
   "metadata": {},
   "outputs": [
    {
     "data": {
      "text/plain": [
       "[400, 9604, 49]"
      ]
     },
     "execution_count": 127,
     "metadata": {},
     "output_type": "execute_result"
    }
   ],
   "source": [
    "[n * n for n in a if n > 0]"
   ]
  },
  {
   "cell_type": "code",
   "execution_count": 128,
   "metadata": {},
   "outputs": [
    {
     "data": {
      "text/plain": [
       "['No', 20, 98, 'No', 7, 'No']"
      ]
     },
     "execution_count": 128,
     "metadata": {},
     "output_type": "execute_result"
    }
   ],
   "source": [
    "# substitute different value by specific condition\n",
    "[n if n > 0 else \"No\" for n in a]"
   ]
  },
  {
   "cell_type": "code",
   "execution_count": 129,
   "metadata": {},
   "outputs": [
    {
     "data": {
      "text/plain": [
       "[-19, 'No', 'No', -6, 'No', -21]"
      ]
     },
     "execution_count": 129,
     "metadata": {},
     "output_type": "execute_result"
    }
   ],
   "source": [
    "[n if n < 0 else \"No\" for n in a]"
   ]
  },
  {
   "cell_type": "code",
   "execution_count": 137,
   "metadata": {},
   "outputs": [
    {
     "data": {
      "text/plain": [
       "Counter({'cat': 5, 'crow': 7, 'dog': 3, 'horse': 1, 'swan': 10})"
      ]
     },
     "execution_count": 137,
     "metadata": {},
     "output_type": "execute_result"
    }
   ],
   "source": [
    "# use compress\n",
    "import random \n",
    "import collections\n",
    "c = []\n",
    "for n in range(5):\n",
    "    c.append(\"cat\")\n",
    "for n in range(3):\n",
    "    c.append(\"dog\")\n",
    "for n in range(10):\n",
    "    c.append(\"swan\")\n",
    "for n in range(7):\n",
    "    c.append(\"crow\")\n",
    "c.append(\"horse\")\n",
    "random.shuffle(c)\n",
    "count = collections.Counter(c)\n",
    "count"
   ]
  },
  {
   "cell_type": "code",
   "execution_count": 138,
   "metadata": {},
   "outputs": [
    {
     "data": {
      "text/plain": [
       "dict_values([1, 3, 10, 7, 5])"
      ]
     },
     "execution_count": 138,
     "metadata": {},
     "output_type": "execute_result"
    }
   ],
   "source": [
    "from itertools import compress\n",
    "count.values()"
   ]
  },
  {
   "cell_type": "code",
   "execution_count": 141,
   "metadata": {},
   "outputs": [
    {
     "data": {
      "text/plain": [
       "dict_keys(['horse', 'dog', 'swan', 'crow', 'cat'])"
      ]
     },
     "execution_count": 141,
     "metadata": {},
     "output_type": "execute_result"
    }
   ],
   "source": [
    "count.keys()"
   ]
  },
  {
   "cell_type": "code",
   "execution_count": 144,
   "metadata": {},
   "outputs": [
    {
     "data": {
      "text/plain": [
       "[False, False, True, True, True]"
      ]
     },
     "execution_count": 144,
     "metadata": {},
     "output_type": "execute_result"
    }
   ],
   "source": [
    "condition = [n >= 5 for n in count.values()]"
   ]
  },
  {
   "cell_type": "code",
   "execution_count": 145,
   "metadata": {},
   "outputs": [
    {
     "data": {
      "text/plain": [
       "['swan', 'crow', 'cat']"
      ]
     },
     "execution_count": 145,
     "metadata": {},
     "output_type": "execute_result"
    }
   ],
   "source": [
    "list(compress(count.keys(), condition))"
   ]
  },
  {
   "cell_type": "code",
   "execution_count": 148,
   "metadata": {},
   "outputs": [
    {
     "data": {
      "text/plain": [
       "['swan', 'crow', 'cat']"
      ]
     },
     "execution_count": 148,
     "metadata": {},
     "output_type": "execute_result"
    }
   ],
   "source": [
    "# alternative way\n",
    "list({key:value for key, value in count.items() if value >=5})"
   ]
  },
  {
   "cell_type": "raw",
   "metadata": {},
   "source": [
    "1.17. Extracting a Subset of a Dictionary"
   ]
  },
  {
   "cell_type": "raw",
   "metadata": {},
   "source": [
    "Problem\n",
    "You want to make a dictionary that is a subset of another dictionary."
   ]
  },
  {
   "cell_type": "code",
   "execution_count": 151,
   "metadata": {},
   "outputs": [],
   "source": [
    "prices = {\n",
    "'ACME': 45.23,\n",
    "'AAPL': 612.78,\n",
    "'IBM': 205.55,\n",
    "'HPQ': 37.20,\n",
    "'FB': 10.75\n",
    "}"
   ]
  },
  {
   "cell_type": "code",
   "execution_count": 152,
   "metadata": {},
   "outputs": [
    {
     "data": {
      "text/plain": [
       "{'AAPL': 612.78, 'IBM': 205.55}"
      ]
     },
     "execution_count": 152,
     "metadata": {},
     "output_type": "execute_result"
    }
   ],
   "source": [
    "# make a subset of dict from the original dict with condiction\n",
    "{key:value for key, value in prices.items() if value > 200}"
   ]
  },
  {
   "cell_type": "code",
   "execution_count": 153,
   "metadata": {},
   "outputs": [
    {
     "data": {
      "text/plain": [
       "{'ACME': 45.23, 'FB': 10.75, 'IBM': 205.55}"
      ]
     },
     "execution_count": 153,
     "metadata": {},
     "output_type": "execute_result"
    }
   ],
   "source": [
    "#  use set as a filter condition\n",
    "stock = {\"ACME\", \"IBM\", \"FB\"}\n",
    "{key:value for key, value in prices.items() if key in stock}"
   ]
  },
  {
   "cell_type": "code",
   "execution_count": 156,
   "metadata": {},
   "outputs": [
    {
     "data": {
      "text/plain": [
       "{'AAPL': 612.78, 'ACME': 45.23, 'HPQ': 37.2}"
      ]
     },
     "execution_count": 156,
     "metadata": {},
     "output_type": "execute_result"
    }
   ],
   "source": [
    "valu = {45.23, 612.78, 37.20}\n",
    "{key:value for key, value in prices.items() if value in valu}"
   ]
  },
  {
   "cell_type": "code",
   "execution_count": 158,
   "metadata": {},
   "outputs": [
    {
     "data": {
      "text/plain": [
       "{'AAPL': 612.78, 'IBM': 205.55}"
      ]
     },
     "execution_count": 158,
     "metadata": {},
     "output_type": "execute_result"
    }
   ],
   "source": [
    "# Transform a tuple to a dict\n",
    "dict((key, value) for key, value in prices.items() if value > 200)"
   ]
  },
  {
   "cell_type": "code",
   "execution_count": 160,
   "metadata": {},
   "outputs": [
    {
     "data": {
      "text/plain": [
       "{'ACME': 45.23, 'FB': 10.75, 'IBM': 205.55}"
      ]
     },
     "execution_count": 160,
     "metadata": {},
     "output_type": "execute_result"
    }
   ],
   "source": [
    "# alternative way\n",
    "{key:prices[key] for key in prices.keys() if key in stock}"
   ]
  },
  {
   "cell_type": "code",
   "execution_count": 163,
   "metadata": {},
   "outputs": [
    {
     "data": {
      "text/plain": [
       "{'ACME': 45.23, 'FB': 10.75, 'IBM': 205.55}"
      ]
     },
     "execution_count": 163,
     "metadata": {},
     "output_type": "execute_result"
    }
   ],
   "source": [
    "{key:prices[key] for key in prices.keys() & stock}"
   ]
  },
  {
   "cell_type": "raw",
   "metadata": {},
   "source": [
    "1.18. Mapping Names to Sequence Elements"
   ]
  },
  {
   "cell_type": "raw",
   "metadata": {},
   "source": [
    "Problem\n",
    "You have code that accesses list or tuple elements by position, but this makes the code\n",
    "somewhat difficult to read at times. You’d also like to be less dependent on position in\n",
    "the structure, by accessing the elements by name"
   ]
  },
  {
   "cell_type": "code",
   "execution_count": 166,
   "metadata": {},
   "outputs": [
    {
     "data": {
      "text/plain": [
       "person(name='Peter', age='25', occupation='Engineer')"
      ]
     },
     "execution_count": 166,
     "metadata": {},
     "output_type": "execute_result"
    }
   ],
   "source": [
    "# use namedtuple\n",
    "from collections import namedtuple\n",
    "person = namedtuple(\"person\", [\"name\", \"age\", \"occupation\"])\n",
    "Peter = person(\"Peter\", \"25\", \"Engineer\")\n",
    "Peter"
   ]
  },
  {
   "cell_type": "code",
   "execution_count": 167,
   "metadata": {},
   "outputs": [
    {
     "data": {
      "text/plain": [
       "'Peter'"
      ]
     },
     "execution_count": 167,
     "metadata": {},
     "output_type": "execute_result"
    }
   ],
   "source": [
    "Peter.name"
   ]
  },
  {
   "cell_type": "code",
   "execution_count": 168,
   "metadata": {},
   "outputs": [
    {
     "data": {
      "text/plain": [
       "'25'"
      ]
     },
     "execution_count": 168,
     "metadata": {},
     "output_type": "execute_result"
    }
   ],
   "source": [
    "Peter.age"
   ]
  },
  {
   "cell_type": "code",
   "execution_count": 169,
   "metadata": {},
   "outputs": [
    {
     "data": {
      "text/plain": [
       "'Engineer'"
      ]
     },
     "execution_count": 169,
     "metadata": {},
     "output_type": "execute_result"
    }
   ],
   "source": [
    "Peter.occupation"
   ]
  },
  {
   "cell_type": "code",
   "execution_count": 170,
   "metadata": {},
   "outputs": [
    {
     "data": {
      "text/plain": [
       "__main__.person"
      ]
     },
     "execution_count": 170,
     "metadata": {},
     "output_type": "execute_result"
    }
   ],
   "source": [
    "type(Peter)"
   ]
  },
  {
   "cell_type": "code",
   "execution_count": 174,
   "metadata": {},
   "outputs": [
    {
     "data": {
      "text/plain": [
       "{'FB': 15000, 'IBM': 40000}"
      ]
     },
     "execution_count": 174,
     "metadata": {},
     "output_type": "execute_result"
    }
   ],
   "source": [
    "# practical differences between namedtuple and tuple\n",
    "# original tuple = (name, shares, prices)\n",
    "stock = [(\"FB\", 100, 150), (\"IBM\", 200, 200)]\n",
    "def total_cost(L):\n",
    "    result = {}\n",
    "    total = 0.0\n",
    "    for stock in L:\n",
    "        total = stock[1] * stock[2]\n",
    "        result[stock[0]] = total\n",
    "    return result\n",
    "\n",
    "total_cost(stock)"
   ]
  },
  {
   "cell_type": "code",
   "execution_count": 189,
   "metadata": {},
   "outputs": [
    {
     "data": {
      "text/plain": [
       "[('Peter', 'FB', 100, 150), ('Mary', 'IBM', 200, 200)]"
      ]
     },
     "execution_count": 189,
     "metadata": {},
     "output_type": "execute_result"
    }
   ],
   "source": [
    "# but what if I concatenate another tuple to the original tuple?\n",
    "# (person who buy, name, shares, prices)\n",
    "stock = [(\"Peter\",\"FB\", 100, 150), (\"Mary\",\"IBM\", 200, 200)]\n",
    "stock"
   ]
  },
  {
   "cell_type": "code",
   "execution_count": 190,
   "metadata": {},
   "outputs": [
    {
     "data": {
      "text/plain": [
       "{'Mary': 'IBMIBMIBMIBMIBMIBMIBMIBMIBMIBMIBMIBMIBMIBMIBMIBMIBMIBMIBMIBMIBMIBMIBMIBMIBMIBMIBMIBMIBMIBMIBMIBMIBMIBMIBMIBMIBMIBMIBMIBMIBMIBMIBMIBMIBMIBMIBMIBMIBMIBMIBMIBMIBMIBMIBMIBMIBMIBMIBMIBMIBMIBMIBMIBMIBMIBMIBMIBMIBMIBMIBMIBMIBMIBMIBMIBMIBMIBMIBMIBMIBMIBMIBMIBMIBMIBMIBMIBMIBMIBMIBMIBMIBMIBMIBMIBMIBMIBMIBMIBMIBMIBMIBMIBMIBMIBMIBMIBMIBMIBMIBMIBMIBMIBMIBMIBMIBMIBMIBMIBMIBMIBMIBMIBMIBMIBMIBMIBMIBMIBMIBMIBMIBMIBMIBMIBMIBMIBMIBMIBMIBMIBMIBMIBMIBMIBMIBMIBMIBMIBMIBMIBMIBMIBMIBMIBMIBMIBMIBMIBMIBMIBMIBMIBMIBMIBMIBMIBMIBMIBMIBMIBMIBMIBMIBMIBMIBMIBMIBMIBMIBMIBMIBMIBMIBMIBMIBMIBMIBMIBMIBMIBMIBMIBMIBMIBMIBMIBMIBMIBM',\n",
       " 'Peter': 'FBFBFBFBFBFBFBFBFBFBFBFBFBFBFBFBFBFBFBFBFBFBFBFBFBFBFBFBFBFBFBFBFBFBFBFBFBFBFBFBFBFBFBFBFBFBFBFBFBFBFBFBFBFBFBFBFBFBFBFBFBFBFBFBFBFBFBFBFBFBFBFBFBFBFBFBFBFBFBFBFBFBFBFBFBFBFBFBFBFBFBFBFBFBFBFBFBFBFBFB'}"
      ]
     },
     "execution_count": 190,
     "metadata": {},
     "output_type": "execute_result"
    }
   ],
   "source": [
    "total_cost(stock)"
   ]
  },
  {
   "cell_type": "code",
   "execution_count": 197,
   "metadata": {},
   "outputs": [
    {
     "data": {
      "text/plain": [
       "[stock(person='Peter', name='FB', shares=100, price=150),\n",
       " stock(person='Mary', name='IBM', shares=200, price=200)]"
      ]
     },
     "execution_count": 197,
     "metadata": {},
     "output_type": "execute_result"
    }
   ],
   "source": [
    "# the above function won't work as the way it was intended because the total vaiable is based on the position of element inside the tuple.\n",
    "# but if we use name tuple\n",
    "stock = namedtuple(\"stock\", [\"person\", \"name\", \"shares\", \"price\"])\n",
    "FB = stock(\"Peter\", \"FB\", 100, 150)\n",
    "IBM = stock(\"Mary\", \"IBM\", 200, 200)\n",
    "a = [FB, IBM]\n",
    "a"
   ]
  },
  {
   "cell_type": "code",
   "execution_count": 198,
   "metadata": {},
   "outputs": [
    {
     "data": {
      "text/plain": [
       "{'FB': 15000, 'IBM': 40000}"
      ]
     },
     "execution_count": 198,
     "metadata": {},
     "output_type": "execute_result"
    }
   ],
   "source": [
    "def total_cost2(L):\n",
    "    result = {}\n",
    "    total = 0.0\n",
    "    for stock in L:\n",
    "        total = stock.shares * stock.price\n",
    "        result[stock.name] = total\n",
    "    return result\n",
    "\n",
    "total_cost2(a)"
   ]
  },
  {
   "cell_type": "code",
   "execution_count": 201,
   "metadata": {},
   "outputs": [
    {
     "data": {
      "text/plain": [
       "stock(name='', shares=0, price=0.0, date=None, time=None)"
      ]
     },
     "execution_count": 201,
     "metadata": {},
     "output_type": "execute_result"
    }
   ],
   "source": [
    "# one can also use namedtuple as a input holder\n",
    "stock = namedtuple(\"stock\", [\"name\", \"shares\", \"price\", \"date\", \"time\"])\n",
    "empty_stock = stock(\"\", 0, 0.0, None, None)\n",
    "empty_stock"
   ]
  },
  {
   "cell_type": "code",
   "execution_count": 203,
   "metadata": {},
   "outputs": [
    {
     "data": {
      "text/plain": [
       "stock(name='ACME', shares=100, price=123.25, date='12/15/2016', time=None)"
      ]
     },
     "execution_count": 203,
     "metadata": {},
     "output_type": "execute_result"
    }
   ],
   "source": [
    "def input_stock(T, I):\n",
    "    return T._replace(**I)\n",
    "\n",
    "input_stock(empty_stock, {\"name\": \"ACME\", \"shares\": 100, \"price\": 123.25, \"date\": '12/15/2016'})"
   ]
  },
  {
   "cell_type": "raw",
   "metadata": {},
   "source": [
    "1.19. Transforming and Reducing Data at the Same Time"
   ]
  },
  {
   "cell_type": "raw",
   "metadata": {},
   "source": [
    "Problem\n",
    "You need to execute a reduction function (e.g., sum(), min(), max()), but first need to\n",
    "transform or filter the data."
   ]
  },
  {
   "cell_type": "code",
   "execution_count": 207,
   "metadata": {},
   "outputs": [
    {
     "data": {
      "text/plain": [
       "array([97, 79, 81, 87, 17, 10, 80, 40, 78, 30])"
      ]
     },
     "execution_count": 207,
     "metadata": {},
     "output_type": "execute_result"
    }
   ],
   "source": [
    "import numpy as np\n",
    "a = np.random.randint(100, size = 10)\n",
    "a"
   ]
  },
  {
   "cell_type": "code",
   "execution_count": 208,
   "metadata": {},
   "outputs": [
    {
     "data": {
      "text/plain": [
       "265"
      ]
     },
     "execution_count": 208,
     "metadata": {},
     "output_type": "execute_result"
    }
   ],
   "source": [
    "sum(n for n in a if n > 80)"
   ]
  },
  {
   "cell_type": "code",
   "execution_count": 210,
   "metadata": {},
   "outputs": [],
   "source": [
    "# for list of dict\n",
    "portfolio = [\n",
    "{'name':'GOOG', 'shares': 50},\n",
    "{'name':'YHOO', 'shares': 75},\n",
    "{'name':'AOL', 'shares': 20},\n",
    "{'name':'SCOX', 'shares': 65}\n",
    "]"
   ]
  },
  {
   "cell_type": "code",
   "execution_count": 211,
   "metadata": {},
   "outputs": [
    {
     "data": {
      "text/plain": [
       "[{'name': 'GOOG', 'shares': 50},\n",
       " {'name': 'YHOO', 'shares': 75},\n",
       " {'name': 'AOL', 'shares': 20},\n",
       " {'name': 'SCOX', 'shares': 65}]"
      ]
     },
     "execution_count": 211,
     "metadata": {},
     "output_type": "execute_result"
    }
   ],
   "source": [
    "portfolio"
   ]
  },
  {
   "cell_type": "code",
   "execution_count": 213,
   "metadata": {},
   "outputs": [
    {
     "data": {
      "text/plain": [
       "{'name': 'AOL', 'shares': 20}"
      ]
     },
     "execution_count": 213,
     "metadata": {},
     "output_type": "execute_result"
    }
   ],
   "source": [
    "# generate the whole dict with condition\n",
    "min(portfolio, key=itemgetter(\"shares\"))"
   ]
  },
  {
   "cell_type": "code",
   "execution_count": 214,
   "metadata": {},
   "outputs": [
    {
     "data": {
      "text/plain": [
       "20"
      ]
     },
     "execution_count": 214,
     "metadata": {},
     "output_type": "execute_result"
    }
   ],
   "source": [
    "# just generate the value\n",
    "min(x[\"shares\"] for x in portfolio)"
   ]
  },
  {
   "cell_type": "raw",
   "metadata": {},
   "source": [
    "1.20. Combining Multiple Mappings into a Single\n",
    "Mapping"
   ]
  },
  {
   "cell_type": "raw",
   "metadata": {},
   "source": [
    "Problem\n",
    "You have multiple dictionaries or mappings that you want to logically combine into a\n",
    "single mapping to perform certain operations, such as looking up values or checking\n",
    "for the existence of keys."
   ]
  },
  {
   "cell_type": "code",
   "execution_count": 218,
   "metadata": {},
   "outputs": [],
   "source": [
    "# suppose I have two dict\n",
    "a = dict([(\"a\", 5), (\"b\", 8)])\n",
    "b = dict([(\"b\", 10), (\"c\", 15)])"
   ]
  },
  {
   "cell_type": "code",
   "execution_count": 219,
   "metadata": {},
   "outputs": [],
   "source": [
    "c = collections.ChainMap(b,a)"
   ]
  },
  {
   "cell_type": "code",
   "execution_count": 223,
   "metadata": {},
   "outputs": [
    {
     "data": {
      "text/plain": [
       "['b', 'a', 'c']"
      ]
     },
     "execution_count": 223,
     "metadata": {},
     "output_type": "execute_result"
    }
   ],
   "source": [
    "list(c.keys())"
   ]
  },
  {
   "cell_type": "code",
   "execution_count": 224,
   "metadata": {},
   "outputs": [
    {
     "data": {
      "text/plain": [
       "[10, 5, 15]"
      ]
     },
     "execution_count": 224,
     "metadata": {},
     "output_type": "execute_result"
    }
   ],
   "source": [
    "list(c.values())"
   ]
  },
  {
   "cell_type": "code",
   "execution_count": null,
   "metadata": {},
   "outputs": [],
   "source": []
  }
 ],
 "metadata": {
  "kernelspec": {
   "display_name": "Python 3",
   "language": "python",
   "name": "python3"
  },
  "language_info": {
   "codemirror_mode": {
    "name": "ipython",
    "version": 3
   },
   "file_extension": ".py",
   "mimetype": "text/x-python",
   "name": "python",
   "nbconvert_exporter": "python",
   "pygments_lexer": "ipython3",
   "version": "3.6.4"
  }
 },
 "nbformat": 4,
 "nbformat_minor": 2
}
